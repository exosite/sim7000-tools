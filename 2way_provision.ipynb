{
 "cells": [
  {
   "cell_type": "code",
   "execution_count": 1,
   "metadata": {},
   "outputs": [],
   "source": [
    "%matplotlib inline\n",
    "%reload_ext autoreload\n",
    "%autoreload 2"
   ]
  },
  {
   "cell_type": "code",
   "execution_count": 2,
   "metadata": {},
   "outputs": [
    {
     "ename": "ModuleNotFoundError",
     "evalue": "No module named 'paho'",
     "output_type": "error",
     "traceback": [
      "\u001b[0;31m---------------------------------------------------------------------------\u001b[0m",
      "\u001b[0;31mModuleNotFoundError\u001b[0m                       Traceback (most recent call last)",
      "\u001b[0;32m<ipython-input-2-669c3ace1d6f>\u001b[0m in \u001b[0;36m<module>\u001b[0;34m\u001b[0m\n\u001b[0;32m----> 1\u001b[0;31m \u001b[0;32mfrom\u001b[0m \u001b[0mpaho\u001b[0m\u001b[0;34m.\u001b[0m\u001b[0mmqtt\u001b[0m \u001b[0;32mimport\u001b[0m \u001b[0mclient\u001b[0m \u001b[0;32mas\u001b[0m \u001b[0mmqtt\u001b[0m\u001b[0;34m\u001b[0m\u001b[0;34m\u001b[0m\u001b[0m\n\u001b[0m\u001b[1;32m      2\u001b[0m \u001b[0;32mimport\u001b[0m \u001b[0mos\u001b[0m\u001b[0;34m\u001b[0m\u001b[0;34m\u001b[0m\u001b[0m\n\u001b[1;32m      3\u001b[0m \u001b[0;32mimport\u001b[0m \u001b[0mssl\u001b[0m\u001b[0;34m\u001b[0m\u001b[0;34m\u001b[0m\u001b[0m\n\u001b[1;32m      4\u001b[0m \u001b[0;32mimport\u001b[0m \u001b[0mlogging\u001b[0m\u001b[0;34m\u001b[0m\u001b[0;34m\u001b[0m\u001b[0m\n\u001b[1;32m      5\u001b[0m \u001b[0;34m\u001b[0m\u001b[0m\n",
      "\u001b[0;31mModuleNotFoundError\u001b[0m: No module named 'paho'"
     ]
    }
   ],
   "source": [
    "from paho.mqtt import client as mqtt\n",
    "import os\n",
    "import ssl\n",
    "import logging\n",
    "\n",
    "# logging.basicConfig(level=logging.DEBUG)\n",
    "\n",
    "pid = input(\"Product ID? \")\n",
    "host = pid + \".m2.exosite.io\"\n",
    "open(\"product_id.txt\", \"w\").write(pid)\n",
    "cert = \"./certs/murano-ca.crt\"\n",
    "\n",
    "def on_connect(client, userdata, flags, rc):\n",
    "    print(\"Activation succeeded!\")\n",
    "    client.disconnect()\n",
    "\n",
    "def on_disconnect(client, userdata, rc):\n",
    "    if rc != 0:\n",
    "        print(\"Disconnected with error\", rc)\n",
    "        exit()\n",
    "\n",
    "client = mqtt.Client(client_id=\"\")\n",
    "logger = logging.getLogger(__name__)\n",
    "client.enable_logger(logger)\n",
    "\n",
    "certfile = \"./certs/\" + \"murano.crt\"\n",
    "keyfile  = \"./certs/\" + \"murano.key\"\n",
    "print(\"Current dir: \" + os.getcwd() + \" Certificate: \" + certfile + \", Keyfile: \" + keyfile)\n",
    "client.tls_set(\n",
    "    ca_certs=cert,\n",
    "    certfile=certfile,\n",
    "    keyfile=keyfile,\n",
    "    cert_reqs=ssl.CERT_REQUIRED\n",
    ")\n",
    "\n",
    "client.on_connect = on_connect\n",
    "client.on_disconnect = on_disconnect\n",
    "\n",
    "client.connect(host, 443)\n",
    "client.loop_forever()"
   ]
  },
  {
   "cell_type": "code",
   "execution_count": 38,
   "metadata": {},
   "outputs": [],
   "source": []
  },
  {
   "cell_type": "code",
   "execution_count": 42,
   "metadata": {},
   "outputs": [],
   "source": []
  },
  {
   "cell_type": "code",
   "execution_count": 44,
   "metadata": {},
   "outputs": [
    {
     "data": {
      "text/plain": [
       "140244717596936"
      ]
     },
     "execution_count": 44,
     "metadata": {},
     "output_type": "execute_result"
    }
   ],
   "source": []
  }
 ],
 "metadata": {
  "kernelspec": {
   "display_name": "Python 3",
   "language": "python",
   "name": "python3"
  },
  "language_info": {
   "codemirror_mode": {
    "name": "ipython",
    "version": 3
   },
   "file_extension": ".py",
   "mimetype": "text/x-python",
   "name": "python",
   "nbconvert_exporter": "python",
   "pygments_lexer": "ipython3",
   "version": "3.6.9"
  }
 },
 "nbformat": 4,
 "nbformat_minor": 4
}
